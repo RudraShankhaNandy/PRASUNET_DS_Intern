{
 "cells": [
  {
   "cell_type": "code",
   "execution_count": 2,
   "id": "e3e4ae2f",
   "metadata": {
    "execution": {
     "iopub.execute_input": "2024-06-10T14:30:11.344854Z",
     "iopub.status.busy": "2024-06-10T14:30:11.344417Z",
     "iopub.status.idle": "2024-06-10T14:30:22.325907Z",
     "shell.execute_reply": "2024-06-10T14:30:22.325149Z"
    },
    "papermill": {
     "duration": 11.001893,
     "end_time": "2024-06-10T14:30:22.328410",
     "exception": false,
     "start_time": "2024-06-10T14:30:11.326517",
     "status": "completed"
    },
    "tags": []
   },
   "outputs": [
    {
     "name": "stderr",
     "output_type": "stream",
     "text": [
      "2024-06-10 14:30:12.866512: E external/local_xla/xla/stream_executor/cuda/cuda_dnn.cc:9261] Unable to register cuDNN factory: Attempting to register factory for plugin cuDNN when one has already been registered\n",
      "2024-06-10 14:30:12.866610: E external/local_xla/xla/stream_executor/cuda/cuda_fft.cc:607] Unable to register cuFFT factory: Attempting to register factory for plugin cuFFT when one has already been registered\n",
      "2024-06-10 14:30:12.974554: E external/local_xla/xla/stream_executor/cuda/cuda_blas.cc:1515] Unable to register cuBLAS factory: Attempting to register factory for plugin cuBLAS when one has already been registered\n"
     ]
    }
   ],
   "source": [
    "import tensorflow as tf"
   ]
  },
  {
   "cell_type": "code",
   "execution_count": 4,
   "id": "aef64a1c",
   "metadata": {
    "execution": {
     "iopub.execute_input": "2024-06-10T14:30:22.707394Z",
     "iopub.status.busy": "2024-06-10T14:30:22.707096Z",
     "iopub.status.idle": "2024-06-10T14:30:23.816859Z",
     "shell.execute_reply": "2024-06-10T14:30:23.816086Z"
    },
    "papermill": {
     "duration": 1.128931,
     "end_time": "2024-06-10T14:30:23.819189",
     "exception": false,
     "start_time": "2024-06-10T14:30:22.690258",
     "status": "completed"
    },
    "tags": []
   },
   "outputs": [],
   "source": [
    "import pandas as pd\n",
    "import matplotlib.pyplot as plt\n",
    "import seaborn as sns\n",
    "from sklearn.preprocessing import LabelEncoder"
   ]
  },
  {
   "cell_type": "code",
   "execution_count": 5,
   "id": "bd4278c5",
   "metadata": {
    "execution": {
     "iopub.execute_input": "2024-06-10T14:30:23.852697Z",
     "iopub.status.busy": "2024-06-10T14:30:23.852387Z",
     "iopub.status.idle": "2024-06-10T14:30:24.576141Z",
     "shell.execute_reply": "2024-06-10T14:30:24.575002Z"
    },
    "papermill": {
     "duration": 0.742725,
     "end_time": "2024-06-10T14:30:24.578047",
     "exception": false,
     "start_time": "2024-06-10T14:30:23.835322",
     "status": "completed"
    },
    "tags": []
   },
   "outputs": [
    {
     "name": "stdout",
     "output_type": "stream",
     "text": [
      "[nltk_data] Downloading package stopwords to /usr/share/nltk_data...\n",
      "[nltk_data]   Package stopwords is already up-to-date!\n",
      "[nltk_data] Downloading package punkt to /usr/share/nltk_data...\n",
      "[nltk_data]   Package punkt is already up-to-date!\n",
      "[nltk_data] Downloading package wordnet to /usr/share/nltk_data...\n",
      "[nltk_data]   Package wordnet is already up-to-date!\n"
     ]
    },
    {
     "data": {
      "text/plain": [
       "True"
      ]
     },
     "execution_count": 5,
     "metadata": {},
     "output_type": "execute_result"
    }
   ],
   "source": [
    "import re\n",
    "import nltk\n",
    "from nltk.corpus import stopwords\n",
    "nltk.download('stopwords')\n",
    "nltk.download('punkt')\n",
    "nltk.download('wordnet')"
   ]
  },
  {
   "cell_type": "code",
   "execution_count": 6,
   "id": "2fe55297",
   "metadata": {
    "execution": {
     "iopub.execute_input": "2024-06-10T14:30:24.612703Z",
     "iopub.status.busy": "2024-06-10T14:30:24.611865Z",
     "iopub.status.idle": "2024-06-10T14:30:25.007153Z",
     "shell.execute_reply": "2024-06-10T14:30:25.006191Z"
    },
    "papermill": {
     "duration": 0.415143,
     "end_time": "2024-06-10T14:30:25.009490",
     "exception": false,
     "start_time": "2024-06-10T14:30:24.594347",
     "status": "completed"
    },
    "tags": []
   },
   "outputs": [],
   "source": [
    "df = pd.read_csv('twitter_training.csv')\n",
    "validation_df = pd.read_csv('twitter_validation.csv')"
   ]
  },
  {
   "cell_type": "code",
   "execution_count": 7,
   "id": "d3389963",
   "metadata": {
    "execution": {
     "iopub.execute_input": "2024-06-10T14:30:25.046657Z",
     "iopub.status.busy": "2024-06-10T14:30:25.045907Z",
     "iopub.status.idle": "2024-06-10T14:30:25.069418Z",
     "shell.execute_reply": "2024-06-10T14:30:25.068161Z"
    },
    "papermill": {
     "duration": 0.043115,
     "end_time": "2024-06-10T14:30:25.072154",
     "exception": false,
     "start_time": "2024-06-10T14:30:25.029039",
     "status": "completed"
    },
    "tags": []
   },
   "outputs": [
    {
     "data": {
      "text/html": [
       "<div>\n",
       "<style scoped>\n",
       "    .dataframe tbody tr th:only-of-type {\n",
       "        vertical-align: middle;\n",
       "    }\n",
       "\n",
       "    .dataframe tbody tr th {\n",
       "        vertical-align: top;\n",
       "    }\n",
       "\n",
       "    .dataframe thead th {\n",
       "        text-align: right;\n",
       "    }\n",
       "</style>\n",
       "<table border=\"1\" class=\"dataframe\">\n",
       "  <thead>\n",
       "    <tr style=\"text-align: right;\">\n",
       "      <th></th>\n",
       "      <th>2401</th>\n",
       "      <th>Borderlands</th>\n",
       "      <th>Positive</th>\n",
       "      <th>im getting on borderlands and i will murder you all ,</th>\n",
       "    </tr>\n",
       "  </thead>\n",
       "  <tbody>\n",
       "    <tr>\n",
       "      <th>0</th>\n",
       "      <td>2401</td>\n",
       "      <td>Borderlands</td>\n",
       "      <td>Positive</td>\n",
       "      <td>I am coming to the borders and I will kill you...</td>\n",
       "    </tr>\n",
       "    <tr>\n",
       "      <th>1</th>\n",
       "      <td>2401</td>\n",
       "      <td>Borderlands</td>\n",
       "      <td>Positive</td>\n",
       "      <td>im getting on borderlands and i will kill you ...</td>\n",
       "    </tr>\n",
       "    <tr>\n",
       "      <th>2</th>\n",
       "      <td>2401</td>\n",
       "      <td>Borderlands</td>\n",
       "      <td>Positive</td>\n",
       "      <td>im coming on borderlands and i will murder you...</td>\n",
       "    </tr>\n",
       "    <tr>\n",
       "      <th>3</th>\n",
       "      <td>2401</td>\n",
       "      <td>Borderlands</td>\n",
       "      <td>Positive</td>\n",
       "      <td>im getting on borderlands 2 and i will murder ...</td>\n",
       "    </tr>\n",
       "    <tr>\n",
       "      <th>4</th>\n",
       "      <td>2401</td>\n",
       "      <td>Borderlands</td>\n",
       "      <td>Positive</td>\n",
       "      <td>im getting into borderlands and i can murder y...</td>\n",
       "    </tr>\n",
       "  </tbody>\n",
       "</table>\n",
       "</div>"
      ],
      "text/plain": [
       "   2401  Borderlands  Positive  \\\n",
       "0  2401  Borderlands  Positive   \n",
       "1  2401  Borderlands  Positive   \n",
       "2  2401  Borderlands  Positive   \n",
       "3  2401  Borderlands  Positive   \n",
       "4  2401  Borderlands  Positive   \n",
       "\n",
       "  im getting on borderlands and i will murder you all ,  \n",
       "0  I am coming to the borders and I will kill you...     \n",
       "1  im getting on borderlands and i will kill you ...     \n",
       "2  im coming on borderlands and i will murder you...     \n",
       "3  im getting on borderlands 2 and i will murder ...     \n",
       "4  im getting into borderlands and i can murder y...     "
      ]
     },
     "execution_count": 7,
     "metadata": {},
     "output_type": "execute_result"
    }
   ],
   "source": [
    "df.head()"
   ]
  },
  {
   "cell_type": "code",
   "execution_count": 8,
   "id": "6b157a87",
   "metadata": {
    "execution": {
     "iopub.execute_input": "2024-06-10T14:30:25.130754Z",
     "iopub.status.busy": "2024-06-10T14:30:25.130416Z",
     "iopub.status.idle": "2024-06-10T14:30:25.135912Z",
     "shell.execute_reply": "2024-06-10T14:30:25.134960Z"
    },
    "papermill": {
     "duration": 0.037446,
     "end_time": "2024-06-10T14:30:25.138535",
     "exception": false,
     "start_time": "2024-06-10T14:30:25.101089",
     "status": "completed"
    },
    "tags": []
   },
   "outputs": [],
   "source": [
    "df.columns = ['number','borderlands','sentiment','text']\n",
    "validation_df.columns = ['number','borderlands','sentiment','text']"
   ]
  },
  {
   "cell_type": "code",
   "execution_count": 9,
   "id": "b5f55657",
   "metadata": {
    "execution": {
     "iopub.execute_input": "2024-06-10T14:30:25.189358Z",
     "iopub.status.busy": "2024-06-10T14:30:25.189033Z",
     "iopub.status.idle": "2024-06-10T14:30:25.206960Z",
     "shell.execute_reply": "2024-06-10T14:30:25.206024Z"
    },
    "papermill": {
     "duration": 0.047267,
     "end_time": "2024-06-10T14:30:25.210897",
     "exception": false,
     "start_time": "2024-06-10T14:30:25.163630",
     "status": "completed"
    },
    "tags": []
   },
   "outputs": [
    {
     "name": "stdout",
     "output_type": "stream",
     "text": [
      "++++++++++++++++++++++++++++++++++++++++++++++++++++++++++++++++++++++++++++++++++++++++++++++++++++\n",
      "Top 5 values in dataset\n"
     ]
    },
    {
     "data": {
      "text/html": [
       "<div>\n",
       "<style scoped>\n",
       "    .dataframe tbody tr th:only-of-type {\n",
       "        vertical-align: middle;\n",
       "    }\n",
       "\n",
       "    .dataframe tbody tr th {\n",
       "        vertical-align: top;\n",
       "    }\n",
       "\n",
       "    .dataframe thead th {\n",
       "        text-align: right;\n",
       "    }\n",
       "</style>\n",
       "<table border=\"1\" class=\"dataframe\">\n",
       "  <thead>\n",
       "    <tr style=\"text-align: right;\">\n",
       "      <th></th>\n",
       "      <th>number</th>\n",
       "      <th>borderlands</th>\n",
       "      <th>sentiment</th>\n",
       "      <th>text</th>\n",
       "    </tr>\n",
       "  </thead>\n",
       "  <tbody>\n",
       "    <tr>\n",
       "      <th>0</th>\n",
       "      <td>2401</td>\n",
       "      <td>Borderlands</td>\n",
       "      <td>Positive</td>\n",
       "      <td>I am coming to the borders and I will kill you...</td>\n",
       "    </tr>\n",
       "    <tr>\n",
       "      <th>1</th>\n",
       "      <td>2401</td>\n",
       "      <td>Borderlands</td>\n",
       "      <td>Positive</td>\n",
       "      <td>im getting on borderlands and i will kill you ...</td>\n",
       "    </tr>\n",
       "    <tr>\n",
       "      <th>2</th>\n",
       "      <td>2401</td>\n",
       "      <td>Borderlands</td>\n",
       "      <td>Positive</td>\n",
       "      <td>im coming on borderlands and i will murder you...</td>\n",
       "    </tr>\n",
       "    <tr>\n",
       "      <th>3</th>\n",
       "      <td>2401</td>\n",
       "      <td>Borderlands</td>\n",
       "      <td>Positive</td>\n",
       "      <td>im getting on borderlands 2 and i will murder ...</td>\n",
       "    </tr>\n",
       "    <tr>\n",
       "      <th>4</th>\n",
       "      <td>2401</td>\n",
       "      <td>Borderlands</td>\n",
       "      <td>Positive</td>\n",
       "      <td>im getting into borderlands and i can murder y...</td>\n",
       "    </tr>\n",
       "  </tbody>\n",
       "</table>\n",
       "</div>"
      ],
      "text/plain": [
       "   number  borderlands sentiment  \\\n",
       "0    2401  Borderlands  Positive   \n",
       "1    2401  Borderlands  Positive   \n",
       "2    2401  Borderlands  Positive   \n",
       "3    2401  Borderlands  Positive   \n",
       "4    2401  Borderlands  Positive   \n",
       "\n",
       "                                                text  \n",
       "0  I am coming to the borders and I will kill you...  \n",
       "1  im getting on borderlands and i will kill you ...  \n",
       "2  im coming on borderlands and i will murder you...  \n",
       "3  im getting on borderlands 2 and i will murder ...  \n",
       "4  im getting into borderlands and i can murder y...  "
      ]
     },
     "execution_count": 9,
     "metadata": {},
     "output_type": "execute_result"
    }
   ],
   "source": [
    "df.head()"
   ]
  },
  {
   "cell_type": "code",
   "execution_count": 10,
   "id": "fb1ff1a1",
   "metadata": {
    "execution": {
     "iopub.execute_input": "2024-06-10T14:30:25.246078Z",
     "iopub.status.busy": "2024-06-10T14:30:25.245347Z",
     "iopub.status.idle": "2024-06-10T14:30:25.255966Z",
     "shell.execute_reply": "2024-06-10T14:30:25.254899Z"
    },
    "papermill": {
     "duration": 0.030084,
     "end_time": "2024-06-10T14:30:25.258181",
     "exception": false,
     "start_time": "2024-06-10T14:30:25.228097",
     "status": "completed"
    },
    "tags": []
   },
   "outputs": [
    {
     "name": "stdout",
     "output_type": "stream",
     "text": [
      "====================================================================================================\n",
      "Top 5 values in validation dataset\n"
     ]
    },
    {
     "data": {
      "text/html": [
       "<div>\n",
       "<style scoped>\n",
       "    .dataframe tbody tr th:only-of-type {\n",
       "        vertical-align: middle;\n",
       "    }\n",
       "\n",
       "    .dataframe tbody tr th {\n",
       "        vertical-align: top;\n",
       "    }\n",
       "\n",
       "    .dataframe thead th {\n",
       "        text-align: right;\n",
       "    }\n",
       "</style>\n",
       "<table border=\"1\" class=\"dataframe\">\n",
       "  <thead>\n",
       "    <tr style=\"text-align: right;\">\n",
       "      <th></th>\n",
       "      <th>number</th>\n",
       "      <th>borderlands</th>\n",
       "      <th>sentiment</th>\n",
       "      <th>text</th>\n",
       "    </tr>\n",
       "  </thead>\n",
       "  <tbody>\n",
       "    <tr>\n",
       "      <th>0</th>\n",
       "      <td>352</td>\n",
       "      <td>Amazon</td>\n",
       "      <td>Neutral</td>\n",
       "      <td>BBC News - Amazon boss Jeff Bezos rejects clai...</td>\n",
       "    </tr>\n",
       "    <tr>\n",
       "      <th>1</th>\n",
       "      <td>8312</td>\n",
       "      <td>Microsoft</td>\n",
       "      <td>Negative</td>\n",
       "      <td>@Microsoft Why do I pay for WORD when it funct...</td>\n",
       "    </tr>\n",
       "    <tr>\n",
       "      <th>2</th>\n",
       "      <td>4371</td>\n",
       "      <td>CS-GO</td>\n",
       "      <td>Negative</td>\n",
       "      <td>CSGO matchmaking is so full of closet hacking,...</td>\n",
       "    </tr>\n",
       "    <tr>\n",
       "      <th>3</th>\n",
       "      <td>4433</td>\n",
       "      <td>Google</td>\n",
       "      <td>Neutral</td>\n",
       "      <td>Now the President is slapping Americans in the...</td>\n",
       "    </tr>\n",
       "    <tr>\n",
       "      <th>4</th>\n",
       "      <td>6273</td>\n",
       "      <td>FIFA</td>\n",
       "      <td>Negative</td>\n",
       "      <td>Hi @EAHelp I’ve had Madeleine McCann in my cel...</td>\n",
       "    </tr>\n",
       "  </tbody>\n",
       "</table>\n",
       "</div>"
      ],
      "text/plain": [
       "   number borderlands sentiment  \\\n",
       "0     352      Amazon   Neutral   \n",
       "1    8312   Microsoft  Negative   \n",
       "2    4371       CS-GO  Negative   \n",
       "3    4433      Google   Neutral   \n",
       "4    6273        FIFA  Negative   \n",
       "\n",
       "                                                text  \n",
       "0  BBC News - Amazon boss Jeff Bezos rejects clai...  \n",
       "1  @Microsoft Why do I pay for WORD when it funct...  \n",
       "2  CSGO matchmaking is so full of closet hacking,...  \n",
       "3  Now the President is slapping Americans in the...  \n",
       "4  Hi @EAHelp I’ve had Madeleine McCann in my cel...  "
      ]
     },
     "execution_count": 10,
     "metadata": {},
     "output_type": "execute_result"
    }
   ],
   "source": [
    "validation_df.head()"
   ]
  },
  {
   "cell_type": "code",
   "execution_count": 11,
   "id": "98e77b5d",
   "metadata": {
    "execution": {
     "iopub.execute_input": "2024-06-10T14:30:25.293049Z",
     "iopub.status.busy": "2024-06-10T14:30:25.292743Z",
     "iopub.status.idle": "2024-06-10T14:30:25.323098Z",
     "shell.execute_reply": "2024-06-10T14:30:25.322247Z"
    },
    "papermill": {
     "duration": 0.049917,
     "end_time": "2024-06-10T14:30:25.324908",
     "exception": false,
     "start_time": "2024-06-10T14:30:25.274991",
     "status": "completed"
    },
    "tags": []
   },
   "outputs": [
    {
     "data": {
      "text/plain": [
       "number           0\n",
       "borderlands      0\n",
       "sentiment        0\n",
       "text           686\n",
       "dtype: int64"
      ]
     },
     "execution_count": 11,
     "metadata": {},
     "output_type": "execute_result"
    }
   ],
   "source": [
    "df.isna().sum()"
   ]
  },
  {
   "cell_type": "markdown",
   "id": "6c44fdc5",
   "metadata": {
    "papermill": {
     "duration": 0.016664,
     "end_time": "2024-06-10T14:30:25.358434",
     "exception": false,
     "start_time": "2024-06-10T14:30:25.341770",
     "status": "completed"
    },
    "tags": []
   },
   "source": [
    "## Drop the null values Because it was the text document"
   ]
  },
  {
   "cell_type": "code",
   "execution_count": 12,
   "id": "98af1db0",
   "metadata": {
    "execution": {
     "iopub.execute_input": "2024-06-10T14:30:25.394097Z",
     "iopub.status.busy": "2024-06-10T14:30:25.393808Z",
     "iopub.status.idle": "2024-06-10T14:30:25.427157Z",
     "shell.execute_reply": "2024-06-10T14:30:25.426475Z"
    },
    "papermill": {
     "duration": 0.053531,
     "end_time": "2024-06-10T14:30:25.429075",
     "exception": false,
     "start_time": "2024-06-10T14:30:25.375544",
     "status": "completed"
    },
    "tags": []
   },
   "outputs": [],
   "source": [
    "df = df.dropna()"
   ]
  },
  {
   "cell_type": "code",
   "execution_count": 13,
   "id": "f5bdf4e6",
   "metadata": {
    "execution": {
     "iopub.execute_input": "2024-06-10T14:30:25.465443Z",
     "iopub.status.busy": "2024-06-10T14:30:25.465078Z",
     "iopub.status.idle": "2024-06-10T14:30:25.493371Z",
     "shell.execute_reply": "2024-06-10T14:30:25.492452Z"
    },
    "papermill": {
     "duration": 0.048948,
     "end_time": "2024-06-10T14:30:25.495430",
     "exception": false,
     "start_time": "2024-06-10T14:30:25.446482",
     "status": "completed"
    },
    "tags": []
   },
   "outputs": [
    {
     "data": {
      "text/plain": [
       "number         0\n",
       "borderlands    0\n",
       "sentiment      0\n",
       "text           0\n",
       "dtype: int64"
      ]
     },
     "execution_count": 13,
     "metadata": {},
     "output_type": "execute_result"
    }
   ],
   "source": [
    "df.isna().sum()"
   ]
  },
  {
   "cell_type": "markdown",
   "id": "4c698fc0",
   "metadata": {
    "papermill": {
     "duration": 0.019717,
     "end_time": "2024-06-10T14:30:25.535016",
     "exception": false,
     "start_time": "2024-06-10T14:30:25.515299",
     "status": "completed"
    },
    "tags": []
   },
   "source": [
    "## We know that the text are needed to analyse the sentiment of thedataset"
   ]
  },
  {
   "cell_type": "code",
   "execution_count": 14,
   "id": "cacbb352",
   "metadata": {
    "execution": {
     "iopub.execute_input": "2024-06-10T14:30:25.575689Z",
     "iopub.status.busy": "2024-06-10T14:30:25.574930Z",
     "iopub.status.idle": "2024-06-10T14:30:25.584813Z",
     "shell.execute_reply": "2024-06-10T14:30:25.584019Z"
    },
    "papermill": {
     "duration": 0.032607,
     "end_time": "2024-06-10T14:30:25.587260",
     "exception": false,
     "start_time": "2024-06-10T14:30:25.554653",
     "status": "completed"
    },
    "tags": []
   },
   "outputs": [],
   "source": [
    "df = df.drop(['number','borderlands'],axis=1)\n",
    "validation_df = validation_df.drop(['number','borderlands'],axis=1)"
   ]
  },
  {
   "cell_type": "code",
   "execution_count": 15,
   "id": "c5f0ea86",
   "metadata": {
    "execution": {
     "iopub.execute_input": "2024-06-10T14:30:25.628359Z",
     "iopub.status.busy": "2024-06-10T14:30:25.627632Z",
     "iopub.status.idle": "2024-06-10T14:30:25.637281Z",
     "shell.execute_reply": "2024-06-10T14:30:25.636133Z"
    },
    "papermill": {
     "duration": 0.03126,
     "end_time": "2024-06-10T14:30:25.639328",
     "exception": false,
     "start_time": "2024-06-10T14:30:25.608068",
     "status": "completed"
    },
    "tags": []
   },
   "outputs": [
    {
     "data": {
      "text/html": [
       "<div>\n",
       "<style scoped>\n",
       "    .dataframe tbody tr th:only-of-type {\n",
       "        vertical-align: middle;\n",
       "    }\n",
       "\n",
       "    .dataframe tbody tr th {\n",
       "        vertical-align: top;\n",
       "    }\n",
       "\n",
       "    .dataframe thead th {\n",
       "        text-align: right;\n",
       "    }\n",
       "</style>\n",
       "<table border=\"1\" class=\"dataframe\">\n",
       "  <thead>\n",
       "    <tr style=\"text-align: right;\">\n",
       "      <th></th>\n",
       "      <th>sentiment</th>\n",
       "      <th>text</th>\n",
       "    </tr>\n",
       "  </thead>\n",
       "  <tbody>\n",
       "    <tr>\n",
       "      <th>0</th>\n",
       "      <td>Positive</td>\n",
       "      <td>I am coming to the borders and I will kill you...</td>\n",
       "    </tr>\n",
       "    <tr>\n",
       "      <th>1</th>\n",
       "      <td>Positive</td>\n",
       "      <td>im getting on borderlands and i will kill you ...</td>\n",
       "    </tr>\n",
       "    <tr>\n",
       "      <th>2</th>\n",
       "      <td>Positive</td>\n",
       "      <td>im coming on borderlands and i will murder you...</td>\n",
       "    </tr>\n",
       "    <tr>\n",
       "      <th>3</th>\n",
       "      <td>Positive</td>\n",
       "      <td>im getting on borderlands 2 and i will murder ...</td>\n",
       "    </tr>\n",
       "    <tr>\n",
       "      <th>4</th>\n",
       "      <td>Positive</td>\n",
       "      <td>im getting into borderlands and i can murder y...</td>\n",
       "    </tr>\n",
       "  </tbody>\n",
       "</table>\n",
       "</div>"
      ],
      "text/plain": [
       "  sentiment                                               text\n",
       "0  Positive  I am coming to the borders and I will kill you...\n",
       "1  Positive  im getting on borderlands and i will kill you ...\n",
       "2  Positive  im coming on borderlands and i will murder you...\n",
       "3  Positive  im getting on borderlands 2 and i will murder ...\n",
       "4  Positive  im getting into borderlands and i can murder y..."
      ]
     },
     "execution_count": 15,
     "metadata": {},
     "output_type": "execute_result"
    }
   ],
   "source": [
    "df.head()"
   ]
  },
  {
   "cell_type": "code",
   "execution_count": 16,
   "id": "501e2cd5",
   "metadata": {
    "execution": {
     "iopub.execute_input": "2024-06-10T14:30:25.677378Z",
     "iopub.status.busy": "2024-06-10T14:30:25.676797Z",
     "iopub.status.idle": "2024-06-10T14:30:25.685782Z",
     "shell.execute_reply": "2024-06-10T14:30:25.684819Z"
    },
    "papermill": {
     "duration": 0.030081,
     "end_time": "2024-06-10T14:30:25.687828",
     "exception": false,
     "start_time": "2024-06-10T14:30:25.657747",
     "status": "completed"
    },
    "tags": []
   },
   "outputs": [
    {
     "data": {
      "text/html": [
       "<div>\n",
       "<style scoped>\n",
       "    .dataframe tbody tr th:only-of-type {\n",
       "        vertical-align: middle;\n",
       "    }\n",
       "\n",
       "    .dataframe tbody tr th {\n",
       "        vertical-align: top;\n",
       "    }\n",
       "\n",
       "    .dataframe thead th {\n",
       "        text-align: right;\n",
       "    }\n",
       "</style>\n",
       "<table border=\"1\" class=\"dataframe\">\n",
       "  <thead>\n",
       "    <tr style=\"text-align: right;\">\n",
       "      <th></th>\n",
       "      <th>sentiment</th>\n",
       "      <th>text</th>\n",
       "    </tr>\n",
       "  </thead>\n",
       "  <tbody>\n",
       "    <tr>\n",
       "      <th>0</th>\n",
       "      <td>Neutral</td>\n",
       "      <td>BBC News - Amazon boss Jeff Bezos rejects clai...</td>\n",
       "    </tr>\n",
       "    <tr>\n",
       "      <th>1</th>\n",
       "      <td>Negative</td>\n",
       "      <td>@Microsoft Why do I pay for WORD when it funct...</td>\n",
       "    </tr>\n",
       "    <tr>\n",
       "      <th>2</th>\n",
       "      <td>Negative</td>\n",
       "      <td>CSGO matchmaking is so full of closet hacking,...</td>\n",
       "    </tr>\n",
       "    <tr>\n",
       "      <th>3</th>\n",
       "      <td>Neutral</td>\n",
       "      <td>Now the President is slapping Americans in the...</td>\n",
       "    </tr>\n",
       "    <tr>\n",
       "      <th>4</th>\n",
       "      <td>Negative</td>\n",
       "      <td>Hi @EAHelp I’ve had Madeleine McCann in my cel...</td>\n",
       "    </tr>\n",
       "  </tbody>\n",
       "</table>\n",
       "</div>"
      ],
      "text/plain": [
       "  sentiment                                               text\n",
       "0   Neutral  BBC News - Amazon boss Jeff Bezos rejects clai...\n",
       "1  Negative  @Microsoft Why do I pay for WORD when it funct...\n",
       "2  Negative  CSGO matchmaking is so full of closet hacking,...\n",
       "3   Neutral  Now the President is slapping Americans in the...\n",
       "4  Negative  Hi @EAHelp I’ve had Madeleine McCann in my cel..."
      ]
     },
     "execution_count": 16,
     "metadata": {},
     "output_type": "execute_result"
    }
   ],
   "source": [
    "validation_df.head()"
   ]
  },
  {
   "cell_type": "code",
   "execution_count": 17,
   "id": "b818f69c",
   "metadata": {
    "execution": {
     "iopub.execute_input": "2024-06-10T14:30:25.726671Z",
     "iopub.status.busy": "2024-06-10T14:30:25.726377Z",
     "iopub.status.idle": "2024-06-10T14:30:26.017883Z",
     "shell.execute_reply": "2024-06-10T14:30:26.016965Z"
    },
    "papermill": {
     "duration": 0.312506,
     "end_time": "2024-06-10T14:30:26.019946",
     "exception": false,
     "start_time": "2024-06-10T14:30:25.707440",
     "status": "completed"
    },
    "tags": []
   },
   "outputs": [
    {
     "data": {
      "image/png": "[encoded data removed]",
      "text/plain": [
       "<Figure size 640x480 with 1 Axes>"
      ]
     },
     "metadata": {},
     "output_type": "display_data"
    }
   ],
   "source": [
    "value_counts_target = df['sentiment'].value_counts()\n",
    "value_counts_target.plot(kind='bar')\n",
    "plt.xlabel('Sentiment')\n",
    "plt.ylabel('No of occurences ')\n",
    "plt.title('Target Distribution .')\n",
    "plt.show()"
   ]
  },
  {
   "cell_type": "code",
   "execution_count": 18,
   "id": "40ff7507",
   "metadata": {
    "execution": {
     "iopub.execute_input": "2024-06-10T14:30:26.057780Z",
     "iopub.status.busy": "2024-06-10T14:30:26.057426Z",
     "iopub.status.idle": "2024-06-10T14:30:26.203658Z",
     "shell.execute_reply": "2024-06-10T14:30:26.202328Z"
    },
    "papermill": {
     "duration": 0.170645,
     "end_time": "2024-06-10T14:30:26.208835",
     "exception": false,
     "start_time": "2024-06-10T14:30:26.038190",
     "status": "completed"
    },
    "tags": []
   },
   "outputs": [
    {
     "data": {
      "image/png": "[encoded data removed]",
      "text/plain": [
       "<Figure size 640x480 with 1 Axes>"
      ]
     },
     "metadata": {},
     "output_type": "display_data"
    }
   ],
   "source": [
    "plt.pie(value_counts_target,labels=value_counts_target.index,autopct=\"%1.2f%%\",colors=['blue','yellow','red','orange'])\n",
    "plt.show()"
   ]
  },
  {
   "cell_type": "code",
   "execution_count": null,
   "id": "6cf0db9b",
   "metadata": {},
   "outputs": [],
   "source": []
  }
 ],
 "metadata": {
  "kaggle": {
   "accelerator": "gpu",
   "dataSources": [
    {
     "datasetId": 1520310,
     "sourceId": 2510329,
     "sourceType": "datasetVersion"
    }
   ],
   "dockerImageVersionId": 30715,
   "isGpuEnabled": true,
   "isInternetEnabled": true,
   "language": "python",
   "sourceType": "notebook"
  },
  "kernelspec": {
   "display_name": "Python 3",
   "language": "python",
   "name": "python3"
  },
  "language_info": {
   "codemirror_mode": {
    "name": "ipython",
    "version": 3
   },
   "file_extension": ".py",
   "mimetype": "text/x-python",
   "name": "python",
   "nbconvert_exporter": "python",
   "pygments_lexer": "ipython3",
   "version": "3.10.9"
  },
  "papermill": {
   "default_parameters": {},
   "duration": 800.6462,
   "end_time": "2024-06-10T14:43:28.449972",
   "environment_variables": {},
   "exception": null,
   "input_path": "__notebook__.ipynb",
   "output_path": "__notebook__.ipynb",
   "parameters": {},
   "start_time": "2024-06-10T14:30:07.803772",
   "version": "2.5.0"
  }
 },
 "nbformat": 4,
 "nbformat_minor": 5
}
